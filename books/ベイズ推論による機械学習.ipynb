{
  "nbformat": 4,
  "nbformat_minor": 0,
  "metadata": {
    "colab": {
      "name": "ベイズ推論による機械学習.ipynb",
      "version": "0.3.2",
      "provenance": [],
      "include_colab_link": true
    },
    "kernelspec": {
      "name": "python3",
      "display_name": "Python 3"
    }
  },
  "cells": [
    {
      "cell_type": "markdown",
      "metadata": {
        "id": "view-in-github",
        "colab_type": "text"
      },
      "source": [
        "<a href=\"https://colab.research.google.com/github/m-shimao/ml-study-memo/blob/master/books/%E3%83%99%E3%82%A4%E3%82%BA%E6%8E%A8%E8%AB%96%E3%81%AB%E3%82%88%E3%82%8B%E6%A9%9F%E6%A2%B0%E5%AD%A6%E7%BF%92.ipynb\" target=\"_parent\"><img src=\"https://colab.research.google.com/assets/colab-badge.svg\" alt=\"Open In Colab\"/></a>"
      ]
    },
    {
      "cell_type": "markdown",
      "metadata": {
        "id": "SNIKQuDiA_tN",
        "colab_type": "text"
      },
      "source": [
        "# 本ノートブックの目的\n",
        "\n",
        "個人的に詰まった所・勘違いした所・忘れてしまいそうな所などをまとめる。"
      ]
    },
    {
      "cell_type": "markdown",
      "metadata": {
        "id": "MgBlIc6uApwr",
        "colab_type": "text"
      },
      "source": [
        "# 1. 機械学習とベイズ学習"
      ]
    },
    {
      "cell_type": "markdown",
      "metadata": {
        "id": "n1tHsB_iArsj",
        "colab_type": "text"
      },
      "source": [
        "# 2. 基本的な確率分布"
      ]
    },
    {
      "cell_type": "markdown",
      "metadata": {
        "id": "rnrCIDJIArvA",
        "colab_type": "text"
      },
      "source": [
        "# 3. ベイズ推論による学習と予測"
      ]
    },
    {
      "cell_type": "markdown",
      "metadata": {
        "id": "5p80ouFHArxj",
        "colab_type": "text"
      },
      "source": [
        "# 4. 混合モデルと近似推論"
      ]
    },
    {
      "cell_type": "markdown",
      "metadata": {
        "id": "1jhuFf4RAnN-",
        "colab_type": "text"
      },
      "source": [
        "# 5. 応用モデルの構築と推論"
      ]
    }
  ]
}